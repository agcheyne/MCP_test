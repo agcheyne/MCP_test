{
 "cells": [
  {
   "cell_type": "code",
   "execution_count": 10,
   "metadata": {},
   "outputs": [],
   "source": [
    "import ROOT\n",
    "import os"
   ]
  },
  {
   "cell_type": "code",
   "execution_count": 11,
   "metadata": {},
   "outputs": [],
   "source": [
    "# define the input and output directories\n",
    "\n",
    "IN_DIR = \"./outputs/\"\n",
    "OUT_DIR = \"./outputs/\"\n",
    "\n",
    "# define the input file we want to read\n",
    "IN_FILE = \"output.root\"\n",
    "\n",
    "#Read the input file\n",
    "file = ROOT.TFile(IN_DIR + IN_FILE)\n",
    "\n",
    "#look at the file\n",
    "file.ls()"

   ]
  },
  {
   "cell_type": "code",
   "execution_count": 16,
   "metadata": {},
   "outputs": [
    {
     "name": "stdout",
     "output_type": "stream",
     "text": [
      "******************************************************************************\n",
      "*Tree    :tree      : Tree with some data                                    *\n",
      "*Entries :       10 : Total =             968 bytes  File  Size =        476 *\n",
      "*        :          : Tree compression factor =   1.17                       *\n",
      "******************************************************************************\n",
      "*Br    0 :value     : value/I                                                *\n",
      "*Entries :       10 : Total  Size=        601 bytes  File Size  =         96 *\n",
      "*Baskets :        1 : Basket Size=      32000 bytes  Compression=   1.17     *\n",
      "*............................................................................*\n"
     ]
    }
   ],
   "source": [
    "# look at the tree\n",
    "tree = file.Get(\"tree\")\n",
    "tree.Print()"
   ]
  },
  {
   "cell_type": "code",
   "execution_count": 13,
   "metadata": {},
   "outputs": [
    {
     "name": "stdout",
     "output_type": "stream",
     "text": [
      "Number of entries:  10\n",
      "Entry  0  has value  -1741765328\n",
      "Entry  1  has value  -1741765328\n",
      "Entry  2  has value  -1741765328\n",
      "Entry  3  has value  -1741765328\n",
      "Entry  4  has value  -1741765328\n",
      "Entry  5  has value  -1741765328\n",
      "Entry  6  has value  -1741765328\n",
      "Entry  7  has value  -1741765328\n",
      "Entry  8  has value  -1741765328\n",
      "Entry  9  has value  -1741765328\n"
     ]
    }
   ],
   "source": [
    "# we can see that the tree has branch called \"value\" with 10 entries \n",
    "\n",
    "nentries = tree.GetEntries()\n",
    "print(\"Number of entries: \", nentries)"
   ]
  },
  {
   "cell_type": "code",
   "execution_count": null,
   "metadata": {},
   "outputs": [],
   "source": []
  }
 ],
 "metadata": {
  "kernelspec": {
   "display_name": "my_root_env",
   "language": "python",
   "name": "python3"
  },
  "language_info": {
   "codemirror_mode": {
    "name": "ipython",
    "version": 3
   },
   "file_extension": ".py",
   "mimetype": "text/x-python",
   "name": "python",
   "nbconvert_exporter": "python",
   "pygments_lexer": "ipython3",
   "version": "3.12.4"
  }
 },
 "nbformat": 4,
 "nbformat_minor": 2
}

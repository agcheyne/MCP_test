{
 "cells": [
  {
   "cell_type": "code",
   "execution_count": 40,
   "metadata": {},
   "outputs": [],
   "source": [
    "import ROOT\n",
    "import os\n",
    "import numpy as np\n",
    "import array"
   ]
  },
  {
   "cell_type": "code",
   "execution_count": 43,
   "metadata": {},
   "outputs": [
    {
     "name": "stdout",
     "output_type": "stream",
     "text": [
      "Removed existing file\n",
      "Created new file,  ./outputs/output.root\n"
     ]
    }
   ],
   "source": [
    "# Create a new ROOT file\n",
    "OUT_DIR = \"./outputs/\"\n",
    "if not os.path.exists(OUT_DIR):\n",
    "    os.makedirs(OUT_DIR)\n",
    "\n",
    "OUT_FILE = OUT_DIR + \"output.root\"\n",
    "\n",
    "# Remove the existing file if it exists - Recreate doesn't work well\n",
    "if os.path.exists(OUT_FILE):\n",
    "    os.remove(OUT_FILE)\n",
    "    print(\"Removed existing file\")\n",
    "\n",
    "file = ROOT.TFile(OUT_FILE, \"RECREATE\")\n",
    "print(\"Created new file, \", OUT_FILE)\n",
    "\n"
   ]
  },
  {
   "cell_type": "code",
   "execution_count": 45,
   "metadata": {},
   "outputs": [
    {
     "name": "stdout",
     "output_type": "stream",
     "text": [
      "******************************************************************************\n",
      "*Tree    :tree      : Tree with some data                                    *\n",
      "*Entries :        0 : Total =             795 bytes  File  Size =          0 *\n",
      "*        :          : Tree compression factor =   1.00                       *\n",
      "******************************************************************************\n",
      "*Br    0 :value     : value/I                                                *\n",
      "*Entries :        0 : Total  Size=        485 bytes  One basket in memory    *\n",
      "*Baskets :        0 : Basket Size=      32000 bytes  Compression=   1.00     *\n",
      "*............................................................................*\n",
      "******************************************************************************\n",
      "*Tree    :tree      : Tree with some data                                    *\n",
      "*Entries :       10 : Total =             995 bytes  File  Size =          0 *\n",
      "*        :          : Tree compression factor =   1.00                       *\n",
      "******************************************************************************\n",
      "*Br    0 :value     : value/I                                                *\n",
      "*Entries :       10 : Total  Size=        685 bytes  One basket in memory    *\n",
      "*Baskets :        0 : Basket Size=      32000 bytes  Compression=   1.00     *\n",
      "*............................................................................*\n"
     ]
    },
    {
     "name": "stderr",
     "output_type": "stream",
     "text": [
      "Error in <TROOT::WriteTObject>: The current directory (PyROOT) is not associated with a file. The object (tree) has not been written.\n"
     ]
    }
   ],
   "source": [
    "# Create structures (histograms, trees, etc.)\n",
    "\n",
    "# Trees are a structure that can contain branches with different types of data\n",
    "# Create a new tree\n",
    "tree = ROOT.TTree(\"tree\", \"Tree with some data\")\n",
    "\n",
    "# Create a variable to be stored in the tree\n",
    "value = 0\n",
    "# 'i' is the type of the variable, in this case integer\n",
    "# [0] is the initial value of the variable\n",
    "\n",
    "# Create a branch in the tree\n",
    "tree.Branch(\"value\", value, \"value/I\") \n",
    "#branch has the structure (name, address, leaf structure)\n",
    "# \"value\" is the name of the branch, value is the variable to be stored in the branch, \"value/I\" is the leaf structure\n",
    "# we have not filled the tree yet, so it is empty\n",
    "\n",
    "# print the tree structure\n",
    "tree.Print()\n",
    "\n",
    "# Fill the tree with some data\n",
    "for i in range(10):\n",
    "    value = i\n",
    "    tree.Fill()\n",
    "\n",
    "tree.Print() # We should see that the tree is now filled with data\n",
    "\n",
    "# Save the tree to the file\n",
    "tree.Write()\n",
    "file.Close()"
   ]
  }
 ],
 "metadata": {
  "kernelspec": {
   "display_name": "my_root_env",
   "language": "python",
   "name": "python3"
  },
  "language_info": {
   "codemirror_mode": {
    "name": "ipython",
    "version": 3
   },
   "file_extension": ".py",
   "mimetype": "text/x-python",
   "name": "python",
   "nbconvert_exporter": "python",
   "pygments_lexer": "ipython3",
   "version": "3.12.4"
  }
 },
 "nbformat": 4,
 "nbformat_minor": 2
}
